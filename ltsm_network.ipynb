{
 "cells": [
  {
   "cell_type": "code",
   "execution_count": 10,
   "metadata": {
    "collapsed": true
   },
   "outputs": [
    {
     "name": "stdout",
     "output_type": "stream",
     "text": [
      "works\n{'MIDIproba': 5}\n{'MIDIproba': 5}\nloading\n"
     ]
    },
    {
     "name": "stdout",
     "output_type": "stream",
     "text": [
      "endload\n(array([[-0.38791589, -0.39054362, -0.40326308, ..., -0.83009381,\n        -0.82405143, -0.82166575],\n       [-0.43752088, -0.44500642, -0.46452335, ..., -0.85450532,\n        -0.84144166, -0.83601759],\n       [-0.34441999, -0.34274829, -0.34546639, ..., -0.86688967,\n        -0.86276686, -0.86151599],\n       ...,\n       [-1.        , -1.        , -0.86164483, ..., -1.        ,\n        -1.        , -1.        ],\n       [-1.        , -1.        , -0.97933531, ..., -1.        ,\n        -1.        , -1.        ],\n       [-1.        , -1.        , -0.99198126, ..., -1.        ,\n        -1.        , -1.        ]]), array([[0., 0., 0., ..., 0., 0., 0.],\n       [0., 0., 0., ..., 0., 0., 0.],\n       [0., 0., 0., ..., 0., 0., 0.],\n       ...,\n       [0., 0., 0., ..., 0., 0., 0.],\n       [0., 0., 0., ..., 0., 0., 0.],\n       [0., 0., 0., ..., 0., 0., 0.]]))\n"
     ]
    },
    {
     "ename": "RuntimeError",
     "evalue": "Requested MovieWriter (ffmpeg) not available",
     "traceback": [
      "\u001b[1;31m---------------------------------------------------------------------------\u001b[0m",
      "\u001b[1;31mKeyError\u001b[0m                                  Traceback (most recent call last)",
      "\u001b[1;32m~\\AppData\\Local\\Programs\\Python\\Python36\\lib\\site-packages\\matplotlib\\animation.py\u001b[0m in \u001b[0;36m__getitem__\u001b[1;34m(self, name)\u001b[0m\n\u001b[0;32m    169\u001b[0m         \u001b[1;32mtry\u001b[0m\u001b[1;33m:\u001b[0m\u001b[1;33m\u001b[0m\u001b[0m\n\u001b[1;32m--> 170\u001b[1;33m             \u001b[1;32mreturn\u001b[0m \u001b[0mself\u001b[0m\u001b[1;33m.\u001b[0m\u001b[0mavail\u001b[0m\u001b[1;33m[\u001b[0m\u001b[0mname\u001b[0m\u001b[1;33m]\u001b[0m\u001b[1;33m\u001b[0m\u001b[0m\n\u001b[0m\u001b[0;32m    171\u001b[0m         \u001b[1;32mexcept\u001b[0m \u001b[0mKeyError\u001b[0m\u001b[1;33m:\u001b[0m\u001b[1;33m\u001b[0m\u001b[0m\n",
      "\u001b[1;31mKeyError\u001b[0m: 'ffmpeg'",
      "\nDuring handling of the above exception, another exception occurred:\n",
      "\u001b[1;31mRuntimeError\u001b[0m                              Traceback (most recent call last)",
      "\u001b[1;32m<ipython-input-10-5ec67ad2209f>\u001b[0m in \u001b[0;36m<module>\u001b[1;34m()\u001b[0m\n\u001b[0;32m    116\u001b[0m     \u001b[0mdisplay\u001b[0m\u001b[1;33m(\u001b[0m\u001b[0mHTML\u001b[0m\u001b[1;33m(\u001b[0m\u001b[0manim\u001b[0m\u001b[1;33m.\u001b[0m\u001b[0mto_html5_video\u001b[0m\u001b[1;33m(\u001b[0m\u001b[1;33m)\u001b[0m\u001b[1;33m)\u001b[0m\u001b[1;33m)\u001b[0m\u001b[1;33m\u001b[0m\u001b[0m\n\u001b[0;32m    117\u001b[0m \u001b[0mprint\u001b[0m\u001b[1;33m(\u001b[0m\u001b[0mdata\u001b[0m\u001b[1;33m)\u001b[0m\u001b[1;33m\u001b[0m\u001b[0m\n\u001b[1;32m--> 118\u001b[1;33m \u001b[0mplot\u001b[0m\u001b[1;33m(\u001b[0m\u001b[0mdata\u001b[0m\u001b[1;33m[\u001b[0m\u001b[1;36m0\u001b[0m\u001b[1;33m]\u001b[0m\u001b[1;33m,\u001b[0m \u001b[0mdata\u001b[0m\u001b[1;33m[\u001b[0m\u001b[1;36m1\u001b[0m\u001b[1;33m]\u001b[0m\u001b[1;33m)\u001b[0m\u001b[1;33m\u001b[0m\u001b[0m\n\u001b[0m",
      "\u001b[1;32m<ipython-input-10-5ec67ad2209f>\u001b[0m in \u001b[0;36mplot\u001b[1;34m(cqt, piano_roll, dx)\u001b[0m\n\u001b[0;32m    114\u001b[0m                                    \u001b[0minterval\u001b[0m\u001b[1;33m=\u001b[0m\u001b[1;36m20\u001b[0m\u001b[1;33m,\u001b[0m\u001b[1;33m\u001b[0m\u001b[0m\n\u001b[0;32m    115\u001b[0m                                    blit=True)\n\u001b[1;32m--> 116\u001b[1;33m     \u001b[0mdisplay\u001b[0m\u001b[1;33m(\u001b[0m\u001b[0mHTML\u001b[0m\u001b[1;33m(\u001b[0m\u001b[0manim\u001b[0m\u001b[1;33m.\u001b[0m\u001b[0mto_html5_video\u001b[0m\u001b[1;33m(\u001b[0m\u001b[1;33m)\u001b[0m\u001b[1;33m)\u001b[0m\u001b[1;33m)\u001b[0m\u001b[1;33m\u001b[0m\u001b[0m\n\u001b[0m\u001b[0;32m    117\u001b[0m \u001b[0mprint\u001b[0m\u001b[1;33m(\u001b[0m\u001b[0mdata\u001b[0m\u001b[1;33m)\u001b[0m\u001b[1;33m\u001b[0m\u001b[0m\n\u001b[0;32m    118\u001b[0m \u001b[0mplot\u001b[0m\u001b[1;33m(\u001b[0m\u001b[0mdata\u001b[0m\u001b[1;33m[\u001b[0m\u001b[1;36m0\u001b[0m\u001b[1;33m]\u001b[0m\u001b[1;33m,\u001b[0m \u001b[0mdata\u001b[0m\u001b[1;33m[\u001b[0m\u001b[1;36m1\u001b[0m\u001b[1;33m]\u001b[0m\u001b[1;33m)\u001b[0m\u001b[1;33m\u001b[0m\u001b[0m\n",
      "\u001b[1;32m~\\AppData\\Local\\Programs\\Python\\Python36\\lib\\site-packages\\matplotlib\\animation.py\u001b[0m in \u001b[0;36mto_html5_video\u001b[1;34m(self, embed_limit)\u001b[0m\n\u001b[0;32m   1347\u001b[0m                 \u001b[1;31m# We create a writer manually so that we can get the\u001b[0m\u001b[1;33m\u001b[0m\u001b[1;33m\u001b[0m\u001b[0m\n\u001b[0;32m   1348\u001b[0m                 \u001b[1;31m# appropriate size for the tag\u001b[0m\u001b[1;33m\u001b[0m\u001b[1;33m\u001b[0m\u001b[0m\n\u001b[1;32m-> 1349\u001b[1;33m                 \u001b[0mWriter\u001b[0m \u001b[1;33m=\u001b[0m \u001b[0mwriters\u001b[0m\u001b[1;33m[\u001b[0m\u001b[0mrcParams\u001b[0m\u001b[1;33m[\u001b[0m\u001b[1;34m'animation.writer'\u001b[0m\u001b[1;33m]\u001b[0m\u001b[1;33m]\u001b[0m\u001b[1;33m\u001b[0m\u001b[0m\n\u001b[0m\u001b[0;32m   1350\u001b[0m                 writer = Writer(codec='h264',\n\u001b[0;32m   1351\u001b[0m                                 \u001b[0mbitrate\u001b[0m\u001b[1;33m=\u001b[0m\u001b[0mrcParams\u001b[0m\u001b[1;33m[\u001b[0m\u001b[1;34m'animation.bitrate'\u001b[0m\u001b[1;33m]\u001b[0m\u001b[1;33m,\u001b[0m\u001b[1;33m\u001b[0m\u001b[0m\n",
      "\u001b[1;32m~\\AppData\\Local\\Programs\\Python\\Python36\\lib\\site-packages\\matplotlib\\animation.py\u001b[0m in \u001b[0;36m__getitem__\u001b[1;34m(self, name)\u001b[0m\n\u001b[0;32m    171\u001b[0m         \u001b[1;32mexcept\u001b[0m \u001b[0mKeyError\u001b[0m\u001b[1;33m:\u001b[0m\u001b[1;33m\u001b[0m\u001b[0m\n\u001b[0;32m    172\u001b[0m             raise RuntimeError(\n\u001b[1;32m--> 173\u001b[1;33m                 'Requested MovieWriter ({}) not available'.format(name))\n\u001b[0m\u001b[0;32m    174\u001b[0m \u001b[1;33m\u001b[0m\u001b[0m\n\u001b[0;32m    175\u001b[0m \u001b[1;33m\u001b[0m\u001b[0m\n",
      "\u001b[1;31mRuntimeError\u001b[0m: Requested MovieWriter (ffmpeg) not available"
     ],
     "output_type": "error"
    },
    {
     "data": {
      "image/png": "[encoded data removed]",
      "text/plain": [
       "<Figure size 432x288 with 1 Axes>"
      ]
     },
     "metadata": {},
     "output_type": "display_data"
    }
   ],
   "source": [
    "import random\n",
    "import json\n",
    "import os\n",
    "import warnings\n",
    "\n",
    "from IPython.display import display, Audio\n",
    "import librosa\n",
    "import matplotlib.pyplot as plt\n",
    "import mir_eval\n",
    "import mir_eval.display\n",
    "import numpy as np\n",
    "from keras.layers import LSTM, Activation, Convolution1D, Dense, TimeDistributed\n",
    "from keras.models import Sequential\n",
    "from keras.preprocessing import sequence\n",
    "import pretty_midi\n",
    "\n",
    "warnings.filterwarnings(\n",
    "    'ignore')  # TODO Remove when librosa.cqt has been updated.\n",
    "\n",
    "DATA_PATH = '.'\n",
    "RESULTS_PATH = '.'\n",
    "SCORE_FILE = 'match_scores.json'\n",
    "\n",
    "\n",
    "def msd_path(msd_id):\n",
    "    \"\"\"Given an MSD ID, generate the path prefix.\n",
    "    E.g. TRABCD12345678 -> A/B/C/TRABCD12345678\"\"\"\n",
    "    return os.path.join(msd_id[2], msd_id[3], msd_id[4], msd_id)\n",
    "\n",
    "\n",
    "def mp3_path(msd_id):\n",
    "    \"\"\"Given an MSD ID, return the path to the corresponding MP3 file.\"\"\"\n",
    "    return os.path.join(DATA_PATH, msd_id + '.wav')\n",
    "\n",
    "\n",
    "def midi_path(msd_id, midi_md5, kind='aligned'):\n",
    "    \"\"\"Given an MSD ID and MIDI MD5, return path to a MIDI file.\"\"\"\n",
    "    # TODO Enums kind: 'matched' or 'aligned'\n",
    "    return os.path.join(RESULTS_PATH, msd_id + '.mid')\n",
    "import traceback\n",
    "print(\"works\")\n",
    "\n",
    "\n",
    "from scipy.misc import imresize\n",
    "with open(SCORE_FILE) as f:\n",
    "    scores = json.load(f)\n",
    "\n",
    "def load(msd_id, matches):\n",
    "    try:\n",
    "        print(\"loading\")\n",
    "        # Compute constant-Q spectrogram.\n",
    "        audio, fs = librosa.load(mp3_path(msd_id), sr=None)\n",
    "        cqt = librosa.core.amplitude_to_db(librosa.cqt(audio)) # , real=False\n",
    "        cqt = librosa.util.normalize(cqt)\n",
    "        \n",
    "        # TODO Synthesize MIDI. We could use this for the Lakh MIDI files without 7digital preview MP3s.\n",
    "        #midi_audio = pm.fluidsynth(fs)\n",
    "        #display(Audio(midi_audio, rate=fs))\n",
    "        \n",
    "        # Average existing MIDI annotations for the audio into a single matrix.\n",
    "        piano_roll = None\n",
    "        #midi_md5 = max(matches, key=lambda x: x[1])\n",
    "        \"\"\"\n",
    "        for midi_md5, score in matches.items():\n",
    "            pm = pretty_midi.PrettyMIDI(midi_path(msd_id, midi_md5, 'aligned'))\n",
    "            x = pm.get_piano_roll()\n",
    "            if x.shape[1] > 0:\n",
    "                if piano_roll is not None:\n",
    "                    x = imresize(x, size=piano_roll.shape)\n",
    "                    piano_roll = np.dstack((piano_roll, x))\n",
    "                else:\n",
    "                    piano_roll = pm.get_piano_roll()[..., np.newaxis]\n",
    "        \"\"\"\n",
    "        pm = pretty_midi.PrettyMIDI(midi_path(msd_id, 'asd', 'aligned'))\n",
    "        piano_roll = pm.get_piano_roll()[..., np.newaxis]\n",
    "        piano_roll = np.average(piano_roll, axis=2)\n",
    "        \n",
    "        # Use 7 octaves starting from C1.\n",
    "        piano_roll = piano_roll[12:96]\n",
    "        piano_roll = imresize(piano_roll, size=cqt.shape)\n",
    "        piano_roll = piano_roll.astype(\n",
    "            np.float) / 255  # Normalize to [0.0, 1.0].\n",
    "        print(\"endload\")\n",
    "        return cqt, piano_roll\n",
    "    except Exception as e:\n",
    "        traceback.print_exc()\n",
    "        raise e\n",
    "print(scores)\n",
    "samples = 100\n",
    "\n",
    "from multiprocessing import Pool, cpu_count\n",
    "print(scores)\n",
    "# with Pool(cpu_count()) as p:\n",
    "#     # Grab an MSD ID and its dictionary of matches.\n",
    "#     data = p.starmap(load, [scores.popitem() for _ in range(1)])\n",
    "score = scores.popitem()\n",
    "data = load(score[0], score[1])\n",
    "%matplotlib inline\n",
    "from matplotlib import animation, rc\n",
    "from IPython.display import HTML\n",
    "from librosa import display\n",
    "rc('animation', html='html5')\n",
    "\n",
    "def plot(cqt, piano_roll, dx=50):\n",
    "    def animate(i):\n",
    "        xs = cqt[..., i:i+dx]\n",
    "        ys = np.ma.masked_where(piano_roll == 0, piano_roll)[..., i:i+dx]\n",
    "        return (display.specshow(xs, cmap=plt.cm.hot), \n",
    "                display.specshow(ys, cmap=plt.cm.cool))\n",
    "        \n",
    "    anim = animation.FuncAnimation(plt.figure(), \n",
    "                                   animate, \n",
    "                                   frames=100, \n",
    "                                   interval=20, \n",
    "                                   blit=True)\n",
    "    display(HTML(anim.to_html5_video()))\n",
    "print(data)\n",
    "plot(data[0], data[1])"
   ]
  },
  {
   "cell_type": "code",
   "execution_count": null,
   "metadata": {},
   "outputs": [],
   "source": []
  }
 ],
 "metadata": {
  "kernelspec": {
   "display_name": "Python 2",
   "language": "python",
   "name": "python2"
  },
  "language_info": {
   "codemirror_mode": {
    "name": "ipython",
    "version": 2
   },
   "file_extension": ".py",
   "mimetype": "text/x-python",
   "name": "python",
   "nbconvert_exporter": "python",
   "pygments_lexer": "ipython2",
   "version": "2.7.6"
  }
 },
 "nbformat": 4,
 "nbformat_minor": 0
}
